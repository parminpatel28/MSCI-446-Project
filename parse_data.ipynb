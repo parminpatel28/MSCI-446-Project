{
 "cells": [
  {
   "cell_type": "markdown",
   "metadata": {},
   "source": [
    "### Import Frameworks + Libraries"
   ]
  },
  {
   "cell_type": "code",
   "execution_count": null,
   "metadata": {},
   "outputs": [],
   "source": [
    "from bs4 import BeautifulSoup\n",
    "import pandas as pd\n",
    "import os\n"
   ]
  },
  {
   "cell_type": "markdown",
   "metadata": {},
   "source": [
    "### Pointer Logic\n",
    "\n",
    "- Create pointer variables to save .html files to a particular directory"
   ]
  },
  {
   "cell_type": "code",
   "execution_count": null,
   "metadata": {},
   "outputs": [],
   "source": [
    "SCORE_DIR = \"data/scores\"\n",
    "box_scores = os.listdir(SCORE_DIR)\n",
    "box_scores = [os.path.join(SCORE_DIR, f) for f in box_scores if f.endswith(\".html\")]"
   ]
  },
  {
   "cell_type": "markdown",
   "metadata": {},
   "source": [
    "### Parse HTML Function\n",
    "\n",
    "- Takes in a particular HTML file for a specific game, and removes excess table data that is not required in the df (s.decompose())"
   ]
  },
  {
   "cell_type": "code",
   "execution_count": null,
   "metadata": {},
   "outputs": [],
   "source": [
    "def parse_html(box_score):\n",
    "    with open(box_score) as f:\n",
    "        html = f.read()\n",
    "\n",
    "    soup = BeautifulSoup(html)\n",
    "\n",
    "    [s.decompose() for s in soup.select(\"tr.over_header\")]\n",
    "    [s.decompose() for s in soup.select(\"tr.thead\")]\n",
    "\n",
    "    return soup\n",
    "    "
   ]
  },
  {
   "cell_type": "markdown",
   "metadata": {},
   "source": [
    "### Parse Line Score\n",
    "\n",
    "- Takes in a BeautifulSoup object to parse the total points/teams playing"
   ]
  },
  {
   "cell_type": "code",
   "execution_count": null,
   "metadata": {},
   "outputs": [],
   "source": [
    "def read_line_score(soup):\n",
    "    line_score = pd.read_html(str(soup), attrs={\"id\": \"line_score\"})[0]\n",
    "    cols = list(line_score.columns)\n",
    "    cols[0] = \"team\"\n",
    "    cols[-1] = \"total\"\n",
    "    line_score.columns = cols\n",
    "\n",
    "    line_score = line_score[[\"team\", \"total\"]]\n",
    "    return line_score"
   ]
  },
  {
   "cell_type": "markdown",
   "metadata": {},
   "source": [
    "### Read Stats\n",
    "\n",
    "- Reads in the boxscore HTML table and converts it to a dataframe using Pandas"
   ]
  },
  {
   "cell_type": "code",
   "execution_count": null,
   "metadata": {},
   "outputs": [],
   "source": [
    "def read_stats(soup, team, stat) -> pd.DataFrame:\n",
    "    df = pd.read_html(str(soup), attrs={\"id\": f\"box-{team}-game-{stat}\"}, index_col=0)[0]\n",
    "    df = df.apply(pd.to_numeric, errors=\"coerce\")\n",
    "\n",
    "    return df"
   ]
  },
  {
   "cell_type": "markdown",
   "metadata": {},
   "source": [
    "### Read Season Info\n",
    "\n",
    "- Returns the particular season info of the game we are currently parsing"
   ]
  },
  {
   "cell_type": "code",
   "execution_count": null,
   "metadata": {},
   "outputs": [],
   "source": [
    "def read_season_info(soup) -> pd.DataFrame:\n",
    "    nav = soup.select(\"#bottom_nav_container\")[0]\n",
    "    hrefs = [a[\"href\"] for a in nav.find_all(\"a\")]\n",
    "    season = os.path.basename(hrefs[1]).split(\"_\")[0]\n",
    "    return season"
   ]
  },
  {
   "cell_type": "code",
   "execution_count": null,
   "metadata": {},
   "outputs": [],
   "source": [
    "games = []\n",
    "\n",
    "for box_score in box_scores:\n",
    "    soup = parse_html(box_score)\n",
    "    line_score = read_line_score(soup)\n",
    "\n",
    "    teams = list(line_score[\"team\"])\n",
    "    summaries = []\n",
    "    team_mapping = {}\n",
    "\n",
    "    for i, team in enumerate(teams):\n",
    "        team_mapping[f\"team{i}\"] = team\n",
    "        basic = read_stats(soup, team, \"basic\")\n",
    "        advanced = read_stats(soup, team, \"advanced\")\n",
    "\n",
    "        # only take the final row in the DataFrame and concatenate basic and advanced stats \n",
    "        totals = pd.concat([basic.iloc[-1,:], advanced.iloc[-1,:]])\n",
    "\n",
    "        totals.index = totals.index.str.lower() + f\"_team{i}\"\n",
    "            \n",
    "        totals[f\"team{i}\"] = team\n",
    "        summaries.append(totals)\n",
    "\n",
    "    game = pd.concat(summaries, axis=0)\n",
    "    game[\"winner\"] = team_mapping[\"team0\"] if game[\"pts_team0\"] > game[\"pts_team1\"] else team_mapping[\"team1\"]\n",
    "    game = game.to_frame().T\n",
    "\n",
    "    game[\"season\"] = read_season_info(soup)\n",
    "    game[\"date\"] = os.path.basename(box_score)[:8]\n",
    "    game[\"date\"] = pd.to_datetime(game[\"date\"], format=\"%Y%m%d\")\n",
    "    games.append(game)\n",
    "\n",
    "    if len(games) % 100 == 0:\n",
    "        print(f\"{len(games)} / {len(box_scores)}\")"
   ]
  },
  {
   "cell_type": "code",
   "execution_count": null,
   "metadata": {},
   "outputs": [],
   "source": [
    "games = [df.reset_index(drop=True) for df in games]\n",
    "games_df = pd.concat(games, axis=0)\n",
    "games_df.reset_index(drop=True, inplace=True)\n",
    "\n",
    "games_df"
   ]
  },
  {
   "cell_type": "markdown",
   "metadata": {},
   "source": []
  },
  {
   "cell_type": "code",
   "execution_count": null,
   "metadata": {},
   "outputs": [],
   "source": [
    "games_df = games_df.sort_values(by=\"date\")\n",
    "games_df = games_df.reset_index(drop=True)"
   ]
  },
  {
   "cell_type": "code",
   "execution_count": null,
   "metadata": {},
   "outputs": [],
   "source": [
    "games_df"
   ]
  },
  {
   "cell_type": "markdown",
   "metadata": {},
   "source": [
    "## Encoding Data\n",
    "\n",
    "- label encoding --> went with this one for now, but am not sure if this is good since it implies some type of ordering which is not true\n",
    "- one-hot encoding --> this one will add 30 columns to the df, is this what we want?"
   ]
  },
  {
   "cell_type": "code",
   "execution_count": null,
   "metadata": {},
   "outputs": [],
   "source": [
    "# need to confirm previous years do not have different team encodings\n",
    "\n",
    "team_encoding = { \n",
    "    # ATLANTIC\n",
    "    \"TOR\": 1,\n",
    "    \"BOS\": 2,\n",
    "    \"NYK\": 3, \n",
    "    \"BRK\": 4,\n",
    "    \"PHI\": 5,\n",
    "\n",
    "    # CENTRAL\n",
    "    \"CLE\": 6,\n",
    "    \"IND\": 7,\n",
    "    \"DET\": 8,\n",
    "    \"CHI\": 9,\n",
    "    \"MIL\": 10,\n",
    "\n",
    "    # SOUTHEAST\n",
    "    \"MIA\": 11,\n",
    "    \"ATL\": 12,\n",
    "    \"CHO\": 13,\n",
    "    \"WAS\": 14,\n",
    "    \"ORL\": 15,\n",
    "\n",
    "    # NORTHWEST\n",
    "    \"OKC\": 16,\n",
    "    \"POR\": 17,\n",
    "    \"UTA\": 18,\n",
    "    \"DEN\": 19,\n",
    "    \"MIN\": 20,\n",
    "\n",
    "    # PACIFIC\n",
    "    \"GSW\": 21, \n",
    "    \"LAC\": 22,\n",
    "    \"SAC\": 23,\n",
    "    \"PHO\": 24,\n",
    "    \"LAL\": 25,\n",
    "\n",
    "    # SOUTH WEST\n",
    "    \"SAS\": 26,\n",
    "    \"DAL\": 27,\n",
    "    \"MEM\": 28,\n",
    "    \"HOU\": 29,\n",
    "    \"NOP\": 30\n",
    "}\n",
    "\n",
    "# update those values\n",
    "encoded_games_df = games_df\n",
    "\n",
    "encoded_games_df.replace(team_encoding, inplace=True)\n",
    "\n",
    "encoded_games_df\n",
    "\n"
   ]
  },
  {
   "cell_type": "markdown",
   "metadata": {},
   "source": [
    "### Cumulative Average Logic    "
   ]
  },
  {
   "cell_type": "code",
   "execution_count": null,
   "metadata": {},
   "outputs": [],
   "source": [
    "\"\"\"\n",
    "Goal: We want to calculative the cumulative average of each column in the dataframe. We define the cumulative average as the\n",
    "average of each particular stat (let's say points) up until (and not including) the game. \n",
    "\n",
    "Implications: This means that for the first game of each team of each season, each column will have a 0. \n",
    "\n",
    "Algorithm:\n",
    "- We first need to identify the first date of each season we're parsing. This is because the cumulative average of each \n",
    "stat will be reset for each season\n",
    "\n",
    "- For each season, we will leverage a hashmap to store each team's cumulative average. Quick Demo:\n",
    "\n",
    "{\n",
    "    Raptors: {\n",
    "        num_games: 2\n",
    "        cum_pts: 108\n",
    "        cum_fgs: 12\n",
    "        cum_rbs: 20\n",
    "    }\n",
    "}\n",
    "\n",
    "- In this hashmap, we will be updating num_games everytime the particular team plays the game. \n",
    "\n",
    "\"\"\"\n",
    "\n",
    "\n",
    "\n"
   ]
  }
 ],
 "metadata": {
  "kernelspec": {
   "display_name": "Python 3",
   "language": "python",
   "name": "python3"
  },
  "language_info": {
   "codemirror_mode": {
    "name": "ipython",
    "version": 3
   },
   "file_extension": ".py",
   "mimetype": "text/x-python",
   "name": "python",
   "nbconvert_exporter": "python",
   "pygments_lexer": "ipython3",
   "version": "3.11.0"
  }
 },
 "nbformat": 4,
 "nbformat_minor": 2
}
