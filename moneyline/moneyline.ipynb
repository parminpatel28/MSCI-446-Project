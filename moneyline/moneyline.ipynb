{
 "cells": [
  {
   "cell_type": "code",
   "execution_count": 1,
   "metadata": {},
   "outputs": [],
   "source": [
    "import pandas as pd\n",
    "import numpy as np"
   ]
  },
  {
   "cell_type": "code",
   "execution_count": 49,
   "metadata": {},
   "outputs": [],
   "source": [
    "moneyline = pd.read_csv('2022-2023-season.csv')\n",
    "\n",
    "moneyline.head(10)\n",
    "moneyline.drop(columns=[\"Attend.\", \"Notes\", \"Arena\", \"Start (ET)\", \"Unnamed: 6\", \"Unnamed: 7\"], inplace=True)"
   ]
  },
  {
   "cell_type": "code",
   "execution_count": 64,
   "metadata": {},
   "outputs": [
    {
     "data": {
      "text/plain": [
       "0       0.000000\n",
       "1       0.000000\n",
       "2       0.000000\n",
       "3       0.000000\n",
       "4       0.000000\n",
       "          ...   \n",
       "1315    0.558824\n",
       "1316    0.553398\n",
       "1317    0.666667\n",
       "1318    0.670000\n",
       "1319    0.547170\n",
       "Name: Away Win Percentage, Length: 1320, dtype: float64"
      ]
     },
     "execution_count": 64,
     "metadata": {},
     "output_type": "execute_result"
    }
   ],
   "source": [
    "\n",
    "\n",
    "def winPercentageCalculator(moneyline):\n",
    "    moneyline['Away Win Percentage'] = 0\n",
    "    moneyline['Home Win Percentage'] = 0\n",
    "    winLossRatio = {}\n",
    "\n",
    "    for index, row in moneyline.iterrows():\n",
    "\n",
    "        if row['Away'] not in winLossRatio:\n",
    "            winLossRatio[row['Away']] = [0,0]\n",
    "        \n",
    "        if row['Home'] not in winLossRatio:\n",
    "            winLossRatio[row['Home']] = [0,0] # [losses, wins]\n",
    "        \n",
    "        if winLossRatio[row['Away']][1] + winLossRatio[row['Away']][0] == 0:\n",
    "            row[\"Away Win Percentage\"] = 0\n",
    "        \n",
    "        elif winLossRatio[row['Home']][1] + winLossRatio[row['Home']][0] == 0:\n",
    "            row[\"Home Win Percentage\"] = 0\n",
    "                \n",
    "        else:\n",
    "            moneyline.at[index, \"Away Win Percentage\"] = winLossRatio[row['Away']][1] / (winLossRatio[row['Away']][1] + winLossRatio[row['Away']][0])\n",
    "            moneyline.at[index, \"Home Win Percentage\"] = winLossRatio[row['Home']][1] / (winLossRatio[row['Home']][1] + winLossRatio[row['Home']][0])\n",
    "            row[\"Away Win Percentage\"] = winLossRatio[row['Away']][1] / (winLossRatio[row['Away']][1] + winLossRatio[row['Away']][0])\n",
    "            row[\"Home Win Percentage\"] = winLossRatio[row['Home']][1] / (winLossRatio[row['Home']][1] + winLossRatio[row['Home']][0])\n",
    "\n",
    "\n",
    "        # away team wins \n",
    "        if row['PTS (Away)']  > row['PTS (Home)']:\n",
    "            winLossRatio[row['Away']][1] += 1\n",
    "            winLossRatio[row['Home']][0] += 1\n",
    "        # away team loses\n",
    "        elif row['PTS (Away)']  < row['PTS (Home)']:\n",
    "            winLossRatio[row['Home']][1] += 1\n",
    "            winLossRatio[row['Away']][0] += 1\n",
    "    \n",
    "    return moneyline\n",
    "\n",
    "moneyline = winPercentageCalculator(moneyline)\n",
    "    \n",
    "    \n",
    "\n",
    "\n",
    "moneyline[\"Away Win Percentage\"]"
   ]
  }
 ],
 "metadata": {
  "kernelspec": {
   "display_name": "base",
   "language": "python",
   "name": "python3"
  },
  "language_info": {
   "codemirror_mode": {
    "name": "ipython",
    "version": 3
   },
   "file_extension": ".py",
   "mimetype": "text/x-python",
   "name": "python",
   "nbconvert_exporter": "python",
   "pygments_lexer": "ipython3",
   "version": "3.11.5"
  }
 },
 "nbformat": 4,
 "nbformat_minor": 2
}
