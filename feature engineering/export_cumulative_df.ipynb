{
 "cells": [
  {
   "cell_type": "markdown",
   "metadata": {},
   "source": [
    "# Feature Engineering – Cumulative Dataframe\n",
    "\n",
    "The purpose of this notebook is to create the cumulative dataframe. As mentioned in our presentation, this dataframe calculates the average performance of each team across all games up until its current point in the season, retaining more data, providing comprehensive team form. We will be using an iterative approach to loop over every row in the dataframe and accordingly calculate the new values for every column. A hashmap will be leveraged to maintain each team's statistics. \n"
   ]
  },
  {
   "cell_type": "code",
   "execution_count": null,
   "metadata": {},
   "outputs": [],
   "source": [
    "import pandas as pd\n",
    "from ..helper_functions import get_master_df, drop_extraneous_col, save_df"
   ]
  },
  {
   "cell_type": "markdown",
   "metadata": {},
   "source": [
    "### Begin Feature Engineering with Master DF"
   ]
  },
  {
   "cell_type": "code",
   "execution_count": null,
   "metadata": {},
   "outputs": [],
   "source": [
    "df = get_master_df()\n",
    "drop_extraneous_col(df)"
   ]
  },
  {
   "cell_type": "markdown",
   "metadata": {},
   "source": [
    "### Team Encoding Object to Create Hashmap"
   ]
  },
  {
   "cell_type": "code",
   "execution_count": 5,
   "metadata": {},
   "outputs": [],
   "source": [
    "team_encoding = { \n",
    "    # ATLANTIC\n",
    "    \"TOR\": 1,\n",
    "    \"BOS\": 2,\n",
    "    \"NYK\": 3, \n",
    "    \"BRK\": 4,\n",
    "    \"PHI\": 5,\n",
    "\n",
    "    # CENTRAL\n",
    "    \"CLE\": 6,\n",
    "    \"IND\": 7,\n",
    "    \"DET\": 8,\n",
    "    \"CHI\": 9,\n",
    "    \"MIL\": 10,\n",
    "\n",
    "    # SOUTHEAST\n",
    "    \"MIA\": 11,\n",
    "    \"ATL\": 12,\n",
    "    \"CHO\": 13,\n",
    "    \"WAS\": 14,\n",
    "    \"ORL\": 15,\n",
    "\n",
    "    # NORTHWEST\n",
    "    \"OKC\": 16,\n",
    "    \"POR\": 17,\n",
    "    \"UTA\": 18,\n",
    "    \"DEN\": 19,\n",
    "    \"MIN\": 20,\n",
    "\n",
    "    # PACIFIC\n",
    "    \"GSW\": 21, \n",
    "    \"LAC\": 22,\n",
    "    \"SAC\": 23,\n",
    "    \"PHO\": 24,\n",
    "    \"LAL\": 25,\n",
    "\n",
    "    # SOUTH WEST\n",
    "    \"SAS\": 26,\n",
    "    \"DAL\": 27,\n",
    "    \"MEM\": 28,\n",
    "    \"HOU\": 29,\n",
    "    \"NOP\": 30\n",
    "}"
   ]
  },
  {
   "cell_type": "markdown",
   "metadata": {},
   "source": [
    "### Variables Required while Constructing New Columns"
   ]
  },
  {
   "cell_type": "code",
   "execution_count": 6,
   "metadata": {},
   "outputs": [],
   "source": [
    "unique_stats = [col.split(\"_\")[0] + \"_cumulative\" for col in df.columns if \"_team0\" in col and \"restDays\" not in col]\n",
    "stats = [col.split(\"_\")[0] for col in df.columns if \"_team0\" in col and \"restDays\" not in col]\n",
    "teams = team_encoding.keys()"
   ]
  },
  {
   "cell_type": "markdown",
   "metadata": {},
   "source": [
    "### Leveraging Hashmaps\n",
    "\n",
    "While we iterate through each row in the dataframe, we will be using a hashmap to keep track of each team's statistics. It will take on a nested hashmap structure like so:\n",
    "\n",
    "```\n",
    "{\n",
    "    TOR: {\n",
    "        games_played = 10\n",
    "        pts = 569\n",
    "        3p = 89\n",
    "        ...\n",
    "        ...\n",
    "    }\n",
    "    BOS: {\n",
    "        games_played = 10\n",
    "        pts = 569\n",
    "        3p = 89\n",
    "        ...\n",
    "        ...\n",
    "    }\n",
    "}\n",
    "```\n",
    "\n",
    "We will accumulate each team's total for each statistic. To calculate the average, we will divide the total by the current number of games played. At the beginning of each season, these values will be reset."
   ]
  },
  {
   "cell_type": "code",
   "execution_count": 7,
   "metadata": {},
   "outputs": [],
   "source": [
    "def initialize_cumulative_average():\n",
    "    cumulative_averages = {}\n",
    "    for team in teams:\n",
    "        team_cumulative_average = {}\n",
    "        for stat in unique_stats:\n",
    "            team_cumulative_average[stat] = 0\n",
    "        cumulative_averages[team] = team_cumulative_average\n",
    "        cumulative_averages[team][\"games_played\"] = 0\n",
    "    \n",
    "    return cumulative_averages"
   ]
  },
  {
   "cell_type": "markdown",
   "metadata": {},
   "source": [
    "### Initialize New Columns"
   ]
  },
  {
   "cell_type": "code",
   "execution_count": 8,
   "metadata": {},
   "outputs": [],
   "source": [
    "for stat in unique_stats:\n",
    "    df[f'{stat}_team0'] = 0.0\n",
    "    df[f'{stat}_team1'] = 0.0"
   ]
  },
  {
   "cell_type": "markdown",
   "metadata": {},
   "source": [
    "### Begin filling New Columns with Data"
   ]
  },
  {
   "cell_type": "code",
   "execution_count": 9,
   "metadata": {},
   "outputs": [
    {
     "name": "stdout",
     "output_type": "stream",
     "text": [
      "0 / 8468\n",
      "100 / 8468\n",
      "200 / 8468\n",
      "300 / 8468\n",
      "400 / 8468\n",
      "500 / 8468\n",
      "600 / 8468\n",
      "700 / 8468\n",
      "800 / 8468\n",
      "900 / 8468\n",
      "1000 / 8468\n",
      "1100 / 8468\n",
      "1200 / 8468\n",
      "1300 / 8468\n",
      "1400 / 8468\n",
      "1500 / 8468\n",
      "1600 / 8468\n",
      "1700 / 8468\n",
      "1800 / 8468\n",
      "1900 / 8468\n",
      "2000 / 8468\n",
      "2100 / 8468\n",
      "2200 / 8468\n",
      "2300 / 8468\n",
      "2400 / 8468\n",
      "2500 / 8468\n",
      "2600 / 8468\n",
      "2700 / 8468\n",
      "2800 / 8468\n",
      "2900 / 8468\n",
      "3000 / 8468\n",
      "3100 / 8468\n",
      "3200 / 8468\n",
      "3300 / 8468\n",
      "3400 / 8468\n",
      "3500 / 8468\n",
      "3600 / 8468\n",
      "3700 / 8468\n",
      "3800 / 8468\n",
      "3900 / 8468\n",
      "4000 / 8468\n",
      "4100 / 8468\n",
      "4200 / 8468\n",
      "4300 / 8468\n",
      "4400 / 8468\n",
      "4500 / 8468\n",
      "4600 / 8468\n",
      "4700 / 8468\n",
      "4800 / 8468\n",
      "4900 / 8468\n",
      "5000 / 8468\n",
      "5100 / 8468\n",
      "5200 / 8468\n",
      "5300 / 8468\n",
      "5400 / 8468\n",
      "5500 / 8468\n",
      "5600 / 8468\n",
      "5700 / 8468\n",
      "5800 / 8468\n",
      "5900 / 8468\n",
      "6000 / 8468\n",
      "6100 / 8468\n",
      "6200 / 8468\n",
      "6300 / 8468\n",
      "6400 / 8468\n",
      "6500 / 8468\n",
      "6600 / 8468\n",
      "6700 / 8468\n",
      "6800 / 8468\n",
      "6900 / 8468\n",
      "7000 / 8468\n",
      "7100 / 8468\n",
      "7200 / 8468\n",
      "7300 / 8468\n",
      "7400 / 8468\n",
      "7500 / 8468\n",
      "7600 / 8468\n",
      "7700 / 8468\n",
      "7800 / 8468\n",
      "7900 / 8468\n",
      "8000 / 8468\n",
      "8100 / 8468\n",
      "8200 / 8468\n",
      "8300 / 8468\n",
      "8400 / 8468\n"
     ]
    }
   ],
   "source": [
    "cumulative_averages = initialize_cumulative_average()\n",
    "current_season = None\n",
    "\n",
    "first_game_indices = set()\n",
    "    \n",
    "for index, row in df.iterrows():\n",
    "    team0 = row['team0']\n",
    "    team1 = row['team1']\n",
    "    game_season = row['season']\n",
    "\n",
    "    if game_season != current_season:\n",
    "        cumulative_averages = initialize_cumulative_average()\n",
    "        current_season = game_season\n",
    "\n",
    "    games_played_team0 = cumulative_averages[team0][\"games_played\"]\n",
    "    games_played_team1 = cumulative_averages[team1][\"games_played\"]\n",
    "\n",
    "    if games_played_team0 == 0:\n",
    "        first_game_indices.add(index)\n",
    "    \n",
    "    if games_played_team1 == 0:\n",
    "        first_game_indices.add(index)\n",
    "\n",
    "    if games_played_team0 > 0:\n",
    "        for stat in unique_stats:\n",
    "            prev_avg_team0 = cumulative_averages[team0][stat] / games_played_team0\n",
    "            df.at[index, f\"{stat}_team0\"] = prev_avg_team0\n",
    "    \n",
    "    if games_played_team1 > 0:\n",
    "        for stat in unique_stats:\n",
    "            prev_avg_team1 = cumulative_averages[team1][stat] / games_played_team1\n",
    "            df.at[index, f\"{stat}_team1\"] = prev_avg_team1\n",
    "    \n",
    "    for stat in stats:\n",
    "        cumulative_averages[team0][f\"{stat}_cumulative\"] += row[f\"{stat}_team0\"]\n",
    "        cumulative_averages[team1][f\"{stat}_cumulative\"] += row[f\"{stat}_team1\"]\n",
    "\n",
    "    cumulative_averages[team0]['games_played'] += 1\n",
    "    cumulative_averages[team1]['games_played'] += 1\n",
    "\n",
    "    if index % 100 == 0:\n",
    "         print(f\"{index} / {len(df)}\")"
   ]
  },
  {
   "cell_type": "markdown",
   "metadata": {},
   "source": [
    "### Dropping Rows\n",
    "\n",
    "For each team's first game of each season, we need to drop its row. This is because there is no data we can use to predict the outcome of the game. Although we could use previous season stats, teams generally change quite a bit between each season. As a result, we made the decision to simply drop these rows."
   ]
  },
  {
   "cell_type": "code",
   "execution_count": 10,
   "metadata": {},
   "outputs": [],
   "source": [
    "first_game_indices\n",
    "df = df.drop(first_game_indices)"
   ]
  },
  {
   "cell_type": "markdown",
   "metadata": {},
   "source": [
    "### Add Back Columns\n",
    "\n",
    "Certain columns listed in 'exceptions' cannot be averaged throughout the season. As a result, they are added back into the dataframe once the feature engineering is completed."
   ]
  },
  {
   "cell_type": "code",
   "execution_count": 12,
   "metadata": {},
   "outputs": [],
   "source": [
    "exceptions = ['team1', 'winner', 'season', 'date', 'team0', 'team0_encoded', 'team1_encoded', 'restDays_team0', 'restDays_team1']\n",
    "\n",
    "cols_to_keep = [col for col in df.columns if \"cumulative\" in col or col in exceptions]\n",
    "\n",
    "df_filtered = df[cols_to_keep]"
   ]
  },
  {
   "cell_type": "markdown",
   "metadata": {},
   "source": [
    "### Determine Team 1 Winner\n",
    "\n",
    "As mentioned in our presentation, each dataframe possesses a column relating to team1_winner. This will have a value of 1 if team1 wins and a value of 0 if team1 loses."
   ]
  },
  {
   "cell_type": "code",
   "execution_count": 13,
   "metadata": {},
   "outputs": [
    {
     "name": "stderr",
     "output_type": "stream",
     "text": [
      "/var/folders/rd/xg_1cl914sb4d864cq60_8zr0000gn/T/ipykernel_90703/584802485.py:2: SettingWithCopyWarning: \n",
      "A value is trying to be set on a copy of a slice from a DataFrame.\n",
      "Try using .loc[row_indexer,col_indexer] = value instead\n",
      "\n",
      "See the caveats in the documentation: https://pandas.pydata.org/pandas-docs/stable/user_guide/indexing.html#returning-a-view-versus-a-copy\n",
      "  df_filtered['team1_winner'] = df_filtered.apply(lambda row: 1 if row['winner'] == row['team1'] else 0, axis=1)\n"
     ]
    }
   ],
   "source": [
    "df['team1_winner'] = df.apply(lambda row: 1 if row['winner'] == row['team1'] else 0, axis=1)\n",
    "df_filtered['team1_winner'] = df_filtered.apply(lambda row: 1 if row['winner'] == row['team1'] else 0, axis=1)"
   ]
  },
  {
   "cell_type": "code",
   "execution_count": 14,
   "metadata": {},
   "outputs": [],
   "source": [
    "df_filtered.reset_index(drop=True, inplace=True)"
   ]
  },
  {
   "cell_type": "code",
   "execution_count": 17,
   "metadata": {},
   "outputs": [],
   "source": [
    "save_df(df_filtered, \"cumulative_averages.csv\")"
   ]
  }
 ],
 "metadata": {
  "kernelspec": {
   "display_name": "Python 3",
   "language": "python",
   "name": "python3"
  },
  "language_info": {
   "codemirror_mode": {
    "name": "ipython",
    "version": 3
   },
   "file_extension": ".py",
   "mimetype": "text/x-python",
   "name": "python",
   "nbconvert_exporter": "python",
   "pygments_lexer": "ipython3",
   "version": "3.11.0"
  }
 },
 "nbformat": 4,
 "nbformat_minor": 2
}
