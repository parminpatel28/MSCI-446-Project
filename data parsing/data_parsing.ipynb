{
 "cells": [
  {
   "cell_type": "markdown",
   "metadata": {},
   "source": [
    "# Data Parsing\n",
    "\n",
    "The purpose of this notebook is to parse through every NBA games HTML file. Before parsing, each HTML file contains a significant amount of unecessary information. We only care about parsing the line score, the teams playing, and the basic/advanced stats. Using custom functions, we will modify each HTML file, and only extract relevant information required for Machine Learning."
   ]
  },
  {
   "cell_type": "markdown",
   "metadata": {},
   "source": [
    "### Import Frameworks + Libraries"
   ]
  },
  {
   "cell_type": "code",
   "execution_count": null,
   "metadata": {},
   "outputs": [],
   "source": [
    "from bs4 import BeautifulSoup\n",
    "import pandas as pd\n",
    "import os\n",
    "\n",
    "from helper_functions import save_df"
   ]
  },
  {
   "cell_type": "markdown",
   "metadata": {},
   "source": [
    "### Pointer Logic\n",
    "\n",
    "- Create pointer variables to save .html files to a particular directory"
   ]
  },
  {
   "cell_type": "code",
   "execution_count": null,
   "metadata": {},
   "outputs": [],
   "source": [
    "SCORE_DIR = \"data/scores\"\n",
    "box_scores = os.listdir(SCORE_DIR)\n",
    "box_scores = [os.path.join(SCORE_DIR, f) for f in box_scores if f.endswith(\".html\")]"
   ]
  },
  {
   "cell_type": "markdown",
   "metadata": {},
   "source": [
    "### Parse HTML Function\n",
    "\n",
    "- Takes in a particular HTML file for a specific game, and removes excess table data that is not required in the df (s.decompose())"
   ]
  },
  {
   "cell_type": "code",
   "execution_count": null,
   "metadata": {},
   "outputs": [],
   "source": [
    "def parse_html(box_score):\n",
    "    with open(box_score) as f:\n",
    "        html = f.read()\n",
    "\n",
    "    soup = BeautifulSoup(html)\n",
    "\n",
    "    [s.decompose() for s in soup.select(\"tr.over_header\")]\n",
    "    [s.decompose() for s in soup.select(\"tr.thead\")]\n",
    "\n",
    "    return soup\n",
    "    "
   ]
  },
  {
   "cell_type": "markdown",
   "metadata": {},
   "source": [
    "### Parse Line Score\n",
    "\n",
    "- Takes in a BeautifulSoup object to parse the total points/teams playing"
   ]
  },
  {
   "cell_type": "code",
   "execution_count": null,
   "metadata": {},
   "outputs": [],
   "source": [
    "def read_line_score(soup):\n",
    "    line_score = pd.read_html(str(soup), attrs={\"id\": \"line_score\"})[0]\n",
    "    cols = list(line_score.columns)\n",
    "    cols[0] = \"team\"\n",
    "    cols[-1] = \"total\"\n",
    "    line_score.columns = cols\n",
    "\n",
    "    line_score = line_score[[\"team\", \"total\"]]\n",
    "    return line_score"
   ]
  },
  {
   "cell_type": "markdown",
   "metadata": {},
   "source": [
    "### Parse 4 Factors\n",
    "\n",
    "- Takes in a BeautifulSoup object to parse the 4 factors table for each team"
   ]
  },
  {
   "cell_type": "code",
   "execution_count": null,
   "metadata": {},
   "outputs": [],
   "source": [
    "def read_four_factors(soup):\n",
    "    four_factors = pd.read_html(str(soup), attrs={\"id\": \"four_factors\"})[0]\n",
    "    exlude = [\"Pace\", \"ORtg\", \"TOV%\"]\n",
    "    four_factors.drop(exlude, axis=1, inplace=True)\n",
    "    \n",
    "    cols = list(four_factors.columns)\n",
    "    cols[0] = \"team\"\n",
    "    four_factors.columns = cols\n",
    "\n",
    "    return four_factors\n",
    "    "
   ]
  },
  {
   "cell_type": "markdown",
   "metadata": {},
   "source": [
    "### Read Stats\n",
    "\n",
    "- Reads in the boxscore HTML table and converts it to a dataframe using Pandas"
   ]
  },
  {
   "cell_type": "code",
   "execution_count": null,
   "metadata": {},
   "outputs": [],
   "source": [
    "def read_stats(soup, team, stat) -> pd.DataFrame:\n",
    "    df = pd.read_html(str(soup), attrs={\"id\": f\"box-{team}-game-{stat}\"}, index_col=0)[0]\n",
    "    df = df.apply(pd.to_numeric, errors=\"coerce\")\n",
    "\n",
    "    return df"
   ]
  },
  {
   "cell_type": "markdown",
   "metadata": {},
   "source": [
    "### Read Season Info\n",
    "\n",
    "- Returns the particular season info of the game we are currently parsing"
   ]
  },
  {
   "cell_type": "code",
   "execution_count": null,
   "metadata": {},
   "outputs": [],
   "source": [
    "def read_season_info(soup) -> pd.DataFrame:\n",
    "    nav = soup.select(\"#bottom_nav_container\")[0]\n",
    "    hrefs = [a[\"href\"] for a in nav.find_all(\"a\")]\n",
    "    season = os.path.basename(hrefs[1]).split(\"_\")[0]\n",
    "    return season"
   ]
  },
  {
   "cell_type": "markdown",
   "metadata": {},
   "source": [
    "### Begin Processing\n",
    "\n",
    "- This is the crux of the parse_data file\n",
    "- We will iterate through every single HTML file (ie. every single game) and parse the date, season, line score, 4 factors, basic stats, and advanced stats for each team"
   ]
  },
  {
   "cell_type": "code",
   "execution_count": null,
   "metadata": {},
   "outputs": [],
   "source": [
    "games = []\n",
    "\n",
    "for box_score in box_scores:\n",
    "    soup = parse_html(box_score)\n",
    "    line_score = read_line_score(soup)\n",
    "    four_factors = read_four_factors(soup)\n",
    "    four_factors.set_index('team', inplace=True)\n",
    "    \n",
    "    teams = list(line_score[\"team\"])\n",
    "    summaries = []\n",
    "    team_mapping = {}\n",
    "\n",
    "    for i, team in enumerate(teams):\n",
    "        team_mapping[f\"team{i}\"] = team\n",
    "        basic = read_stats(soup, team, \"basic\")\n",
    "        advanced = read_stats(soup, team, \"advanced\")\n",
    "\n",
    "        # only take the final row in the DataFrame and concatenate basic and advanced stats \n",
    "        totals = pd.concat([basic.iloc[-1,:], advanced.iloc[-1,:]])\n",
    "\n",
    "        team_factors = four_factors.loc[team]\n",
    "        totals = pd.concat([totals, team_factors])\n",
    "\n",
    "        totals.index = totals.index.str.lower() + f\"_team{i}\"\n",
    "            \n",
    "        totals[f\"team{i}\"] = team\n",
    "        summaries.append(totals)\n",
    "\n",
    "    game = pd.concat(summaries, axis=0)\n",
    "    game[\"winner\"] = team_mapping[\"team0\"] if game[\"pts_team0\"] > game[\"pts_team1\"] else team_mapping[\"team1\"]\n",
    "    game = game.to_frame().T\n",
    "\n",
    "    game[\"season\"] = read_season_info(soup)\n",
    "    game[\"date\"] = os.path.basename(box_score)[:8]\n",
    "    game[\"date\"] = pd.to_datetime(game[\"date\"], format=\"%Y%m%d\")\n",
    "    games.append(game)\n",
    "\n",
    "    if len(games) % 100 == 0:\n",
    "        print(f\"{len(games)} / {len(box_scores)}\")"
   ]
  },
  {
   "cell_type": "markdown",
   "metadata": {},
   "source": [
    "### Drop Unnecessary Columns\n",
    "\n",
    "Due to some discrepancies in older season data, the BPM stat is unavailable for earlier seasons. As a result, during the scraping, we see that certain columns are \"unnamed.\" To account for this, we drop these columns so we can accordingly create a dataframe."
   ]
  },
  {
   "cell_type": "code",
   "execution_count": null,
   "metadata": {},
   "outputs": [],
   "source": [
    "for game in games:\n",
    "    columns = game.columns\n",
    "    \n",
    "    if \"unnamed: 16_team1\" in columns:\n",
    "        game.drop(\"unnamed: 16_team1\", axis=1, inplace=True)\n",
    "    if \"unnamed: 16_team0\" in columns:\n",
    "        game.drop(\"unnamed: 16_team0\", axis=1, inplace=True)\n",
    "    if \"bpm_team1\" in columns:\n",
    "        game.drop(\"bpm_team1\", axis=1, inplace=True)\n",
    "    if \"bpm_team0\" in columns:\n",
    "        game.drop(\"bpm_team0\", axis=1, inplace=True)"
   ]
  },
  {
   "cell_type": "markdown",
   "metadata": {},
   "source": [
    "### Create the Dataframe with all Games"
   ]
  },
  {
   "cell_type": "code",
   "execution_count": null,
   "metadata": {},
   "outputs": [],
   "source": [
    "games_df = pd.concat(games, axis=0)"
   ]
  },
  {
   "cell_type": "markdown",
   "metadata": {},
   "source": [
    "### Export the Dataframe as a CSV"
   ]
  },
  {
   "cell_type": "code",
   "execution_count": null,
   "metadata": {},
   "outputs": [],
   "source": [
    "save_df(games_df, \"raw_master_df.csv\")"
   ]
  }
 ],
 "metadata": {
  "kernelspec": {
   "display_name": "Python 3",
   "language": "python",
   "name": "python3"
  },
  "language_info": {
   "codemirror_mode": {
    "name": "ipython",
    "version": 3
   },
   "file_extension": ".py",
   "mimetype": "text/x-python",
   "name": "python",
   "nbconvert_exporter": "python",
   "pygments_lexer": "ipython3",
   "version": "3.11.0"
  }
 },
 "nbformat": 4,
 "nbformat_minor": 2
}
