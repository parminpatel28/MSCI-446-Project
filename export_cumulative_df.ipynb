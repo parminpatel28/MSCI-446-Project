{
 "cells": [
  {
   "cell_type": "code",
   "execution_count": null,
   "metadata": {},
   "outputs": [],
   "source": [
    "import pandas as pd"
   ]
  },
  {
   "cell_type": "code",
   "execution_count": null,
   "metadata": {},
   "outputs": [],
   "source": [
    "df = pd.read_csv(\"master_df.csv\")\n",
    "\n",
    "df.drop(\"Unnamed: 0\", axis=1, inplace=True)"
   ]
  },
  {
   "cell_type": "code",
   "execution_count": null,
   "metadata": {},
   "outputs": [],
   "source": [
    "original_columns = df.columns\n",
    "\n",
    "original_columns"
   ]
  },
  {
   "cell_type": "code",
   "execution_count": null,
   "metadata": {},
   "outputs": [],
   "source": [
    "team_encoding = { \n",
    "    # ATLANTIC\n",
    "    \"TOR\": 1,\n",
    "    \"BOS\": 2,\n",
    "    \"NYK\": 3, \n",
    "    \"BRK\": 4,\n",
    "    \"PHI\": 5,\n",
    "\n",
    "    # CENTRAL\n",
    "    \"CLE\": 6,\n",
    "    \"IND\": 7,\n",
    "    \"DET\": 8,\n",
    "    \"CHI\": 9,\n",
    "    \"MIL\": 10,\n",
    "\n",
    "    # SOUTHEAST\n",
    "    \"MIA\": 11,\n",
    "    \"ATL\": 12,\n",
    "    \"CHO\": 13,\n",
    "    \"WAS\": 14,\n",
    "    \"ORL\": 15,\n",
    "\n",
    "    # NORTHWEST\n",
    "    \"OKC\": 16,\n",
    "    \"POR\": 17,\n",
    "    \"UTA\": 18,\n",
    "    \"DEN\": 19,\n",
    "    \"MIN\": 20,\n",
    "\n",
    "    # PACIFIC\n",
    "    \"GSW\": 21, \n",
    "    \"LAC\": 22,\n",
    "    \"SAC\": 23,\n",
    "    \"PHO\": 24,\n",
    "    \"LAL\": 25,\n",
    "\n",
    "    # SOUTH WEST\n",
    "    \"SAS\": 26,\n",
    "    \"DAL\": 27,\n",
    "    \"MEM\": 28,\n",
    "    \"HOU\": 29,\n",
    "    \"NOP\": 30\n",
    "}"
   ]
  },
  {
   "cell_type": "code",
   "execution_count": null,
   "metadata": {},
   "outputs": [],
   "source": [
    "unique_stats = [col.split(\"_\")[0] + \"_cumulative\" for col in df.columns if \"_team0\" in col]\n",
    "stats = [col.split(\"_\")[0] for col in df.columns if \"_team0\" in col]\n",
    "teams = team_encoding.keys()"
   ]
  },
  {
   "cell_type": "code",
   "execution_count": null,
   "metadata": {},
   "outputs": [],
   "source": [
    "def initialize_cumulative_average():\n",
    "    cumulative_averages = {}\n",
    "    for team in teams:\n",
    "        team_cumulative_average = {}\n",
    "        for stat in unique_stats:\n",
    "            team_cumulative_average[stat] = 0\n",
    "        cumulative_averages[team] = team_cumulative_average\n",
    "        cumulative_averages[team][\"games_played\"] = 0\n",
    "    \n",
    "    return cumulative_averages"
   ]
  },
  {
   "cell_type": "code",
   "execution_count": null,
   "metadata": {},
   "outputs": [],
   "source": [
    "for stat in unique_stats:\n",
    "    df[f'{stat}_team0'] = 0.0\n",
    "    df[f'{stat}_team1'] = 0.0"
   ]
  },
  {
   "cell_type": "code",
   "execution_count": null,
   "metadata": {},
   "outputs": [],
   "source": [
    "cumulative_averages = initialize_cumulative_average()\n",
    "current_season = None\n",
    "    \n",
    "for index, row in df.iterrows():\n",
    "    team0 = row['team0']\n",
    "    team1 = row['team1']\n",
    "    game_season = row['season']\n",
    "\n",
    "    if game_season != current_season:\n",
    "        cumulative_averages = initialize_cumulative_average()\n",
    "        current_season = game_season\n",
    "\n",
    "    games_played_team0 = cumulative_averages[team0][\"games_played\"]\n",
    "    games_played_team1 = cumulative_averages[team1][\"games_played\"]\n",
    "\n",
    "    if games_played_team0 > 0:\n",
    "        for stat in unique_stats:\n",
    "            prev_avg_team0 = cumulative_averages[team0][stat] / games_played_team0\n",
    "            df.at[index, f\"{stat}_team0\"] = prev_avg_team0\n",
    "    \n",
    "    if games_played_team1 > 0:\n",
    "        for stat in unique_stats:\n",
    "            prev_avg_team1 = cumulative_averages[team1][stat] / games_played_team1\n",
    "            df.at[index, f\"{stat}_team1\"] = prev_avg_team1\n",
    "    \n",
    "    for stat in stats:\n",
    "        cumulative_averages[team0][f\"{stat}_cumulative\"] += row[f\"{stat}_team0\"]\n",
    "        cumulative_averages[team1][f\"{stat}_cumulative\"] += row[f\"{stat}_team1\"]\n",
    "\n",
    "    cumulative_averages[team0]['games_played'] += 1\n",
    "    cumulative_averages[team1]['games_played'] += 1\n",
    "\n",
    "    if index % 100 == 0:\n",
    "         print(f\"{index} / {len(df)}\")\n",
    "         print(cumulative_averages[\"TOR\"])"
   ]
  },
  {
   "cell_type": "code",
   "execution_count": null,
   "metadata": {},
   "outputs": [],
   "source": [
    "df"
   ]
  },
  {
   "cell_type": "code",
   "execution_count": null,
   "metadata": {},
   "outputs": [],
   "source": [
    "exceptions = ['team1', 'winner', 'season', 'date', 'team0']\n",
    "\n",
    "cols_to_keep = [col for col in df.columns if \"cumulative\" in col or col in exceptions]\n",
    "\n",
    "df_filtered = df[cols_to_keep]\n"
   ]
  },
  {
   "cell_type": "code",
   "execution_count": null,
   "metadata": {},
   "outputs": [],
   "source": [
    "df_filtered.to_csv(\"cumulative_average.csv\")\n",
    "df.to_csv(\"regular_cumulative_average.csv\")"
   ]
  },
  {
   "cell_type": "code",
   "execution_count": null,
   "metadata": {},
   "outputs": [],
   "source": [
    "df_filtered"
   ]
  }
 ],
 "metadata": {
  "language_info": {
   "name": "python"
  }
 },
 "nbformat": 4,
 "nbformat_minor": 2
}
